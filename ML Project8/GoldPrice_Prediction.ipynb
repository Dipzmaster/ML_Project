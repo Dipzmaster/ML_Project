{
 "cells": [
  {
   "cell_type": "code",
   "execution_count": 1,
   "id": "bce30d5d",
   "metadata": {},
   "outputs": [],
   "source": [
    "import pandas as pd\n",
    "import numpy as np\n",
    "import matplotlib.pyplot as plt\n",
    "import seaborn as sns\n",
    "from sklearn.model_selection import train_test_split\n",
    "from sklearn.ensemble import RandomForestRegressor\n",
    "from sklearn import metrics"
   ]
  },
  {
   "cell_type": "code",
   "execution_count": 2,
   "id": "4fae19e1",
   "metadata": {},
   "outputs": [],
   "source": [
    "gold_data = pd.read_csv(\"C:/Users/HP/Documents/ML Project/Gold_price.csv\")"
   ]
  },
  {
   "cell_type": "code",
   "execution_count": 3,
   "id": "4b7d16c3",
   "metadata": {
    "scrolled": true
   },
   "outputs": [
    {
     "data": {
      "text/html": [
       "<div>\n",
       "<style scoped>\n",
       "    .dataframe tbody tr th:only-of-type {\n",
       "        vertical-align: middle;\n",
       "    }\n",
       "\n",
       "    .dataframe tbody tr th {\n",
       "        vertical-align: top;\n",
       "    }\n",
       "\n",
       "    .dataframe thead th {\n",
       "        text-align: right;\n",
       "    }\n",
       "</style>\n",
       "<table border=\"1\" class=\"dataframe\">\n",
       "  <thead>\n",
       "    <tr style=\"text-align: right;\">\n",
       "      <th></th>\n",
       "      <th>Date</th>\n",
       "      <th>SPX</th>\n",
       "      <th>GLD</th>\n",
       "      <th>USO</th>\n",
       "      <th>SLV</th>\n",
       "      <th>EUR/USD</th>\n",
       "    </tr>\n",
       "  </thead>\n",
       "  <tbody>\n",
       "    <tr>\n",
       "      <th>2285</th>\n",
       "      <td>5/8/2018</td>\n",
       "      <td>2671.919922</td>\n",
       "      <td>124.589996</td>\n",
       "      <td>14.0600</td>\n",
       "      <td>15.5100</td>\n",
       "      <td>1.186789</td>\n",
       "    </tr>\n",
       "    <tr>\n",
       "      <th>2286</th>\n",
       "      <td>5/9/2018</td>\n",
       "      <td>2697.790039</td>\n",
       "      <td>124.330002</td>\n",
       "      <td>14.3700</td>\n",
       "      <td>15.5300</td>\n",
       "      <td>1.184722</td>\n",
       "    </tr>\n",
       "    <tr>\n",
       "      <th>2287</th>\n",
       "      <td>5/10/2018</td>\n",
       "      <td>2723.070068</td>\n",
       "      <td>125.180000</td>\n",
       "      <td>14.4100</td>\n",
       "      <td>15.7400</td>\n",
       "      <td>1.191753</td>\n",
       "    </tr>\n",
       "    <tr>\n",
       "      <th>2288</th>\n",
       "      <td>5/14/2018</td>\n",
       "      <td>2730.129883</td>\n",
       "      <td>124.489998</td>\n",
       "      <td>14.3800</td>\n",
       "      <td>15.5600</td>\n",
       "      <td>1.193118</td>\n",
       "    </tr>\n",
       "    <tr>\n",
       "      <th>2289</th>\n",
       "      <td>5/16/2018</td>\n",
       "      <td>2725.780029</td>\n",
       "      <td>122.543800</td>\n",
       "      <td>14.4058</td>\n",
       "      <td>15.4542</td>\n",
       "      <td>1.182033</td>\n",
       "    </tr>\n",
       "  </tbody>\n",
       "</table>\n",
       "</div>"
      ],
      "text/plain": [
       "           Date          SPX         GLD      USO      SLV   EUR/USD\n",
       "2285   5/8/2018  2671.919922  124.589996  14.0600  15.5100  1.186789\n",
       "2286   5/9/2018  2697.790039  124.330002  14.3700  15.5300  1.184722\n",
       "2287  5/10/2018  2723.070068  125.180000  14.4100  15.7400  1.191753\n",
       "2288  5/14/2018  2730.129883  124.489998  14.3800  15.5600  1.193118\n",
       "2289  5/16/2018  2725.780029  122.543800  14.4058  15.4542  1.182033"
      ]
     },
     "execution_count": 3,
     "metadata": {},
     "output_type": "execute_result"
    }
   ],
   "source": [
    "gold_data.tail()"
   ]
  },
  {
   "cell_type": "code",
   "execution_count": 4,
   "id": "40f4319e",
   "metadata": {},
   "outputs": [
    {
     "data": {
      "text/html": [
       "<div>\n",
       "<style scoped>\n",
       "    .dataframe tbody tr th:only-of-type {\n",
       "        vertical-align: middle;\n",
       "    }\n",
       "\n",
       "    .dataframe tbody tr th {\n",
       "        vertical-align: top;\n",
       "    }\n",
       "\n",
       "    .dataframe thead th {\n",
       "        text-align: right;\n",
       "    }\n",
       "</style>\n",
       "<table border=\"1\" class=\"dataframe\">\n",
       "  <thead>\n",
       "    <tr style=\"text-align: right;\">\n",
       "      <th></th>\n",
       "      <th>SPX</th>\n",
       "      <th>GLD</th>\n",
       "      <th>USO</th>\n",
       "      <th>SLV</th>\n",
       "      <th>EUR/USD</th>\n",
       "    </tr>\n",
       "  </thead>\n",
       "  <tbody>\n",
       "    <tr>\n",
       "      <th>count</th>\n",
       "      <td>2290.000000</td>\n",
       "      <td>2290.000000</td>\n",
       "      <td>2290.000000</td>\n",
       "      <td>2290.000000</td>\n",
       "      <td>2290.000000</td>\n",
       "    </tr>\n",
       "    <tr>\n",
       "      <th>mean</th>\n",
       "      <td>1654.315776</td>\n",
       "      <td>122.732875</td>\n",
       "      <td>31.842221</td>\n",
       "      <td>20.084997</td>\n",
       "      <td>1.283653</td>\n",
       "    </tr>\n",
       "    <tr>\n",
       "      <th>std</th>\n",
       "      <td>519.111540</td>\n",
       "      <td>23.283346</td>\n",
       "      <td>19.523517</td>\n",
       "      <td>7.092566</td>\n",
       "      <td>0.131547</td>\n",
       "    </tr>\n",
       "    <tr>\n",
       "      <th>min</th>\n",
       "      <td>676.530029</td>\n",
       "      <td>70.000000</td>\n",
       "      <td>7.960000</td>\n",
       "      <td>8.850000</td>\n",
       "      <td>1.039047</td>\n",
       "    </tr>\n",
       "    <tr>\n",
       "      <th>25%</th>\n",
       "      <td>1239.874969</td>\n",
       "      <td>109.725000</td>\n",
       "      <td>14.380000</td>\n",
       "      <td>15.570000</td>\n",
       "      <td>1.171313</td>\n",
       "    </tr>\n",
       "    <tr>\n",
       "      <th>50%</th>\n",
       "      <td>1551.434998</td>\n",
       "      <td>120.580002</td>\n",
       "      <td>33.869999</td>\n",
       "      <td>17.268500</td>\n",
       "      <td>1.303297</td>\n",
       "    </tr>\n",
       "    <tr>\n",
       "      <th>75%</th>\n",
       "      <td>2073.010070</td>\n",
       "      <td>132.840004</td>\n",
       "      <td>37.827501</td>\n",
       "      <td>22.882500</td>\n",
       "      <td>1.369971</td>\n",
       "    </tr>\n",
       "    <tr>\n",
       "      <th>max</th>\n",
       "      <td>2872.870117</td>\n",
       "      <td>184.589996</td>\n",
       "      <td>117.480003</td>\n",
       "      <td>47.259998</td>\n",
       "      <td>1.598798</td>\n",
       "    </tr>\n",
       "  </tbody>\n",
       "</table>\n",
       "</div>"
      ],
      "text/plain": [
       "               SPX          GLD          USO          SLV      EUR/USD\n",
       "count  2290.000000  2290.000000  2290.000000  2290.000000  2290.000000\n",
       "mean   1654.315776   122.732875    31.842221    20.084997     1.283653\n",
       "std     519.111540    23.283346    19.523517     7.092566     0.131547\n",
       "min     676.530029    70.000000     7.960000     8.850000     1.039047\n",
       "25%    1239.874969   109.725000    14.380000    15.570000     1.171313\n",
       "50%    1551.434998   120.580002    33.869999    17.268500     1.303297\n",
       "75%    2073.010070   132.840004    37.827501    22.882500     1.369971\n",
       "max    2872.870117   184.589996   117.480003    47.259998     1.598798"
      ]
     },
     "execution_count": 4,
     "metadata": {},
     "output_type": "execute_result"
    }
   ],
   "source": [
    "gold_data.describe()"
   ]
  },
  {
   "cell_type": "code",
   "execution_count": 5,
   "id": "21d2af2a",
   "metadata": {},
   "outputs": [
    {
     "name": "stdout",
     "output_type": "stream",
     "text": [
      "<class 'pandas.core.frame.DataFrame'>\n",
      "RangeIndex: 2290 entries, 0 to 2289\n",
      "Data columns (total 6 columns):\n",
      " #   Column   Non-Null Count  Dtype  \n",
      "---  ------   --------------  -----  \n",
      " 0   Date     2290 non-null   object \n",
      " 1   SPX      2290 non-null   float64\n",
      " 2   GLD      2290 non-null   float64\n",
      " 3   USO      2290 non-null   float64\n",
      " 4   SLV      2290 non-null   float64\n",
      " 5   EUR/USD  2290 non-null   float64\n",
      "dtypes: float64(5), object(1)\n",
      "memory usage: 107.5+ KB\n"
     ]
    }
   ],
   "source": [
    "gold_data.info()"
   ]
  },
  {
   "cell_type": "code",
   "execution_count": 6,
   "id": "29761d28",
   "metadata": {},
   "outputs": [
    {
     "data": {
      "text/plain": [
       "Date       0\n",
       "SPX        0\n",
       "GLD        0\n",
       "USO        0\n",
       "SLV        0\n",
       "EUR/USD    0\n",
       "dtype: int64"
      ]
     },
     "execution_count": 6,
     "metadata": {},
     "output_type": "execute_result"
    }
   ],
   "source": [
    "gold_data.isnull().sum()"
   ]
  },
  {
   "cell_type": "code",
   "execution_count": 7,
   "id": "7d059b51",
   "metadata": {},
   "outputs": [],
   "source": [
    "correlation = gold_data.corr()"
   ]
  },
  {
   "cell_type": "code",
   "execution_count": 8,
   "id": "5d1f7201",
   "metadata": {},
   "outputs": [
    {
     "data": {
      "text/plain": [
       "<AxesSubplot:>"
      ]
     },
     "execution_count": 8,
     "metadata": {},
     "output_type": "execute_result"
    },
    {
     "data": {
      "image/png": "[encoded data removed]",
      "text/plain": [
       "<Figure size 576x576 with 2 Axes>"
      ]
     },
     "metadata": {
      "needs_background": "light"
     },
     "output_type": "display_data"
    }
   ],
   "source": [
    "# constructing a heatmap to understand the correlatiom\n",
    "plt.figure(figsize = (8,8))\n",
    "sns.heatmap(correlation, cbar=True, square=True, fmt='.1f',annot=True, annot_kws={'size':8}, cmap='Blues')"
   ]
  },
  {
   "cell_type": "code",
   "execution_count": 9,
   "id": "9de686f2",
   "metadata": {},
   "outputs": [
    {
     "name": "stdout",
     "output_type": "stream",
     "text": [
      "SPX        0.049345\n",
      "GLD        1.000000\n",
      "USO       -0.186360\n",
      "SLV        0.866632\n",
      "EUR/USD   -0.024375\n",
      "Name: GLD, dtype: float64\n"
     ]
    }
   ],
   "source": [
    "# correlation values of GLD\n",
    "print(correlation['GLD'])"
   ]
  },
  {
   "cell_type": "code",
   "execution_count": 10,
   "id": "b2fa711d",
   "metadata": {},
   "outputs": [
    {
     "name": "stderr",
     "output_type": "stream",
     "text": [
      "C:\\Users\\HP\\anaconda3\\lib\\site-packages\\seaborn\\distributions.py:2619: FutureWarning: `distplot` is a deprecated function and will be removed in a future version. Please adapt your code to use either `displot` (a figure-level function with similar flexibility) or `histplot` (an axes-level function for histograms).\n",
      "  warnings.warn(msg, FutureWarning)\n"
     ]
    },
    {
     "data": {
      "text/plain": [
       "<AxesSubplot:xlabel='GLD', ylabel='Density'>"
      ]
     },
     "execution_count": 10,
     "metadata": {},
     "output_type": "execute_result"
    },
    {
     "data": {
      "image/png": "[encoded data removed]",
      "text/plain": [
       "<Figure size 432x288 with 1 Axes>"
      ]
     },
     "metadata": {
      "needs_background": "light"
     },
     "output_type": "display_data"
    }
   ],
   "source": [
    "# checking the distribution of the GLD Price\n",
    "sns.distplot(gold_data['GLD'],color='green')"
   ]
  },
  {
   "cell_type": "code",
   "execution_count": 11,
   "id": "fefe31ae",
   "metadata": {},
   "outputs": [],
   "source": [
    "x = gold_data.drop(['Date','GLD'],axis=1)\n",
    "y = gold_data['GLD']"
   ]
  },
  {
   "cell_type": "code",
   "execution_count": 12,
   "id": "e45c743c",
   "metadata": {},
   "outputs": [
    {
     "name": "stdout",
     "output_type": "stream",
     "text": [
      "              SPX        USO      SLV   EUR/USD\n",
      "0     1447.160034  78.470001  15.1800  1.471692\n",
      "1     1447.160034  78.370003  15.2850  1.474491\n",
      "2     1411.630005  77.309998  15.1670  1.475492\n",
      "3     1416.180054  75.500000  15.0530  1.468299\n",
      "4     1390.189941  76.059998  15.5900  1.557099\n",
      "...           ...        ...      ...       ...\n",
      "2285  2671.919922  14.060000  15.5100  1.186789\n",
      "2286  2697.790039  14.370000  15.5300  1.184722\n",
      "2287  2723.070068  14.410000  15.7400  1.191753\n",
      "2288  2730.129883  14.380000  15.5600  1.193118\n",
      "2289  2725.780029  14.405800  15.4542  1.182033\n",
      "\n",
      "[2290 rows x 4 columns]\n"
     ]
    }
   ],
   "source": [
    "print(x)"
   ]
  },
  {
   "cell_type": "code",
   "execution_count": 13,
   "id": "78e36dfa",
   "metadata": {},
   "outputs": [
    {
     "name": "stdout",
     "output_type": "stream",
     "text": [
      "0        84.860001\n",
      "1        85.570000\n",
      "2        85.129997\n",
      "3        84.769997\n",
      "4        86.779999\n",
      "           ...    \n",
      "2285    124.589996\n",
      "2286    124.330002\n",
      "2287    125.180000\n",
      "2288    124.489998\n",
      "2289    122.543800\n",
      "Name: GLD, Length: 2290, dtype: float64\n"
     ]
    }
   ],
   "source": [
    "print(y)"
   ]
  },
  {
   "cell_type": "code",
   "execution_count": 14,
   "id": "f594d351",
   "metadata": {},
   "outputs": [],
   "source": [
    "x_train, x_test, y_train, y_test = train_test_split(x, y, test_size = 0.2, random_state=2)"
   ]
  },
  {
   "cell_type": "code",
   "execution_count": 16,
   "id": "53a8ec01",
   "metadata": {},
   "outputs": [],
   "source": [
    "regressor = RandomForestRegressor(n_estimators=100)"
   ]
  },
  {
   "cell_type": "code",
   "execution_count": 17,
   "id": "5a92062c",
   "metadata": {},
   "outputs": [
    {
     "data": {
      "text/plain": [
       "RandomForestRegressor()"
      ]
     },
     "execution_count": 17,
     "metadata": {},
     "output_type": "execute_result"
    }
   ],
   "source": [
    "# training the model\n",
    "regressor.fit(x_train, y_train)"
   ]
  },
  {
   "cell_type": "code",
   "execution_count": 18,
   "id": "9d526911",
   "metadata": {},
   "outputs": [],
   "source": [
    "# prediction on Test Data\n",
    "test_data_prediction = regressor.predict(x_test)"
   ]
  },
  {
   "cell_type": "code",
   "execution_count": 19,
   "id": "49cce0e1",
   "metadata": {},
   "outputs": [
    {
     "name": "stdout",
     "output_type": "stream",
     "text": [
      "[168.69859927  82.05819979 115.88809992 127.6472008  120.7954011\n",
      " 154.7903973  150.37689815 126.13860061 117.39269873 125.86500104\n",
      " 116.48240135 172.0472009  141.34439838 167.87459867 115.18450029\n",
      " 117.38180027 138.02850355 170.30520108 159.10760265 157.77869908\n",
      " 155.08930012 125.12060006 176.22639949 157.01450363 125.08710056\n",
      "  93.67209979  77.53630016 120.70980003 119.08839935 167.5913003\n",
      "  88.21790008 125.28210031  91.21450074 117.64680027 121.14179953\n",
      " 136.04880009 115.41000157 114.82410083 145.9653993  106.96220069\n",
      " 104.74750237  87.25689792 126.50340081 118.17219981 154.16229923\n",
      " 119.44100019 108.25759991 107.88319837  93.23590023 127.12609772\n",
      "  74.67600023 113.67889929 121.5399001  111.34939913 118.84309886\n",
      " 120.71619925 159.48990015 169.08590165 147.07029644  85.87889848\n",
      "  94.31970024  86.78699898  90.49739997 119.1157008  126.37910049\n",
      " 127.54920007 168.7994007  122.22859939 117.54189887  98.20720011\n",
      " 168.39070137 143.14629812 132.2791024  121.08970223 121.11049977\n",
      " 119.74200056 114.5220015  118.13530044 106.82800115 127.96950072\n",
      " 113.91229967 107.34240029 116.79640056 119.60289874  89.38230066\n",
      "  88.1744986  146.91660144 127.27080048 113.18210044 110.25299823\n",
      " 108.20489894  77.5478991  169.3186018  114.08309909 121.52109911\n",
      " 127.83570185 154.97559768  91.64919933 135.16980113 159.58220332\n",
      " 125.32690038 125.22390074 130.80330171 114.86020124 119.91430013\n",
      "  92.19219981 110.35989915 166.04349939 155.82399902 114.18759937\n",
      " 106.70340123  79.71569953 113.31170032 125.83610063 107.37789917\n",
      " 118.86740065 155.61650366 160.05529901 120.34329991 133.07130335\n",
      " 101.39479963 117.57079797 119.24489977 113.07850098 102.81069954\n",
      " 160.43419741  99.02990068 147.1133988  125.74990111 169.86419897\n",
      " 125.69299918 127.2672976  127.37730165 113.65289936 112.99470062\n",
      " 123.66129891 102.20049914  89.21189955 124.4066997  101.77819954\n",
      " 107.25559881 113.33490076 117.19640087  99.25519971 121.89550057\n",
      " 163.41129919  87.43469873 106.83049951 117.12540072 127.72870099\n",
      " 124.0358004   80.72409933 120.57990063 158.00729783  87.73339945\n",
      " 110.38799937 119.06099917 172.79569875 103.012199   105.81100062\n",
      " 122.62470031 158.52829769  87.77559809  93.18680049 112.63920039\n",
      " 177.33709965 114.39089958 119.31329982  94.76660092 125.69740012\n",
      " 165.90180094 114.96590073 116.62920124  88.2410986  148.99850033\n",
      " 120.31679953  89.53610008 112.57350015 117.09400046 118.7766013\n",
      "  88.13459956  94.34460012 116.89020001 118.52340136 120.5087008\n",
      " 126.71219865 121.85980008 149.1639     165.62600063 118.58239975\n",
      " 120.17060113 151.47700068 118.09259929 172.86479895 105.68639927\n",
      " 104.98050134 149.30460064 113.72140085 124.82100094 146.96139942\n",
      " 119.65620115 115.32810089 112.74650024 113.40350205 142.18000144\n",
      " 117.97829765 102.90910001 115.85290119 104.03000206  98.86950049\n",
      " 117.42170044  90.70380018  91.63810021 153.69309894 102.71379984\n",
      " 154.865001   114.32850166 138.29480123  90.13919839 115.54989964\n",
      " 114.85139944 122.93720039 121.85510039 165.39150146  92.89849957\n",
      " 135.37590104 121.28839944 120.69120087 104.72689981 142.15370274\n",
      " 121.74409918 116.75300036 113.66550102 126.68449848 122.56129951\n",
      " 125.8002992  121.19340062  86.87599902 132.23370207 145.1649019\n",
      "  92.67659967 158.82069938 159.55870217 126.28449878 164.69919921\n",
      " 109.00459959 110.17290087 103.74979826  94.06600054 127.7101028\n",
      " 107.19440067 161.68799934 121.81830042 131.91939986 130.8223015\n",
      " 160.9544998   90.16229877 175.86830192 127.52060064 126.69179902\n",
      "  86.39789882 124.6634999  150.07949719  89.63020019 106.92889953\n",
      " 109.18130024  84.53169903 135.4116996  155.01770184 140.00060308\n",
      "  74.52830025 152.34620097 126.14439978 126.79010014 127.51659886\n",
      " 108.57209955 156.04090068 114.47290105 116.91410138 125.34919918\n",
      " 154.09450145 121.25169982 156.39509877  92.97300075 125.45800146\n",
      " 126.01070045  87.89940042  92.23909906 126.12039926 128.00870322\n",
      " 113.15610053 117.35109723 120.84940041 126.78349837 119.48990086\n",
      " 136.43059996  93.89449946 119.63950039 113.31120133  94.30039916\n",
      " 108.88449986  87.62809915 109.17029929  89.62649964  92.55350043\n",
      " 131.70690384 162.56969935  89.31620009 119.62480074 133.31910128\n",
      " 123.94380058 128.28920205 101.97609838  89.11969843 131.38570058\n",
      " 119.97230037 108.40899989 168.76400102 115.28900069  86.61919916\n",
      " 119.00790068  91.10390008 161.75579997 116.42120033 121.72560002\n",
      " 160.22229811 119.9636994  112.96149949 108.46219847 126.54419977\n",
      "  76.0486004  103.0729     127.58570257 121.78139943  92.61230032\n",
      " 131.95030072 117.91670114 116.07639975 154.53040263 159.43770067\n",
      " 109.90809977 155.36679803 119.25280078 160.68620067 118.38760011\n",
      " 158.44969967 115.1724992  116.4294002  148.81949906 114.7854007\n",
      " 125.70809879 166.52669955 117.75650028 125.23229933 153.30950368\n",
      " 153.35420316 132.03060034 114.7543003  121.31240173 125.03400045\n",
      "  89.68470064 123.17279994 154.84950167 111.88590035 106.84459935\n",
      " 161.88820103 118.68959985 165.60580072 133.91420092 114.9703995\n",
      " 152.94749869 168.74419999 114.71400026 114.05420137 157.36029831\n",
      "  85.13619892 127.11830029 127.95010074 128.95999969 124.41170068\n",
      " 124.0256006   90.5530008  153.03650088  97.18979976 137.69979969\n",
      "  89.32049961 107.31380012 115.06540067 112.65710087 124.21149915\n",
      "  91.40479884 125.39640126 162.55079727 120.10879866 165.0643011\n",
      " 126.72439859 112.4345002  127.4715995   94.94999912  91.1810994\n",
      " 103.68449924 120.75310045  82.56309955 126.46860019 159.98510447\n",
      " 117.33220106 118.2586998  120.13029967 122.77299986 120.05270122\n",
      " 121.52989999 118.26830077 107.0688002  148.46620019 126.19819855\n",
      " 115.68850105  74.37949975 127.84550118 154.80800055 122.48429974\n",
      " 125.58770007  88.94169978 104.22939881 124.62870066 120.30570005\n",
      "  73.46140081 151.79170025 121.26790032 104.64560006  86.11699779\n",
      " 115.21599911 172.14649857 119.95700022 160.71369803 113.15939937\n",
      " 121.26750019 118.14200107  95.89489976 118.58460034 126.18600059\n",
      " 118.51659952  96.11930076 154.1682018  122.30929987 147.77740032\n",
      " 158.9726023  113.60760022 122.5714995  150.68679814 127.01310033\n",
      " 165.95560033 136.54600037 120.15369971 167.29169825 108.3664993\n",
      " 121.69609849 140.04800117 107.01079909]\n"
     ]
    }
   ],
   "source": [
    "print(test_data_prediction)"
   ]
  },
  {
   "cell_type": "code",
   "execution_count": 20,
   "id": "55da49a0",
   "metadata": {},
   "outputs": [
    {
     "name": "stdout",
     "output_type": "stream",
     "text": [
      "R squared error :  0.9891523240043826\n"
     ]
    }
   ],
   "source": [
    "error_score = metrics.r2_score(y_test, test_data_prediction)\n",
    "print(\"R squared error : \", error_score)"
   ]
  },
  {
   "cell_type": "code",
   "execution_count": 21,
   "id": "751f9bc2",
   "metadata": {},
   "outputs": [],
   "source": [
    "y_test = list(y_test)"
   ]
  },
  {
   "cell_type": "code",
   "execution_count": 22,
   "id": "b3298307",
   "metadata": {},
   "outputs": [
    {
     "data": {
      "image/png": "[encoded data removed]",
      "text/plain": [
       "<Figure size 432x288 with 1 Axes>"
      ]
     },
     "metadata": {
      "needs_background": "light"
     },
     "output_type": "display_data"
    }
   ],
   "source": [
    "plt.plot(y_test, color='blue', label = 'Actual Value')\n",
    "plt.plot(test_data_prediction, color='green', label='Predicted Value')\n",
    "plt.title('Actual Price vs Predicted Price')\n",
    "plt.xlabel('Number of values')\n",
    "plt.ylabel('GLD Price')\n",
    "plt.legend()\n",
    "plt.show()"
   ]
  },
  {
   "cell_type": "code",
   "execution_count": null,
   "id": "4feab024",
   "metadata": {},
   "outputs": [],
   "source": []
  }
 ],
 "metadata": {
  "kernelspec": {
   "display_name": "Python 3 (ipykernel)",
   "language": "python",
   "name": "python3"
  },
  "language_info": {
   "codemirror_mode": {
    "name": "ipython",
    "version": 3
   },
   "file_extension": ".py",
   "mimetype": "text/x-python",
   "name": "python",
   "nbconvert_exporter": "python",
   "pygments_lexer": "ipython3",
   "version": "3.8.8"
  }
 },
 "nbformat": 4,
 "nbformat_minor": 5
}
